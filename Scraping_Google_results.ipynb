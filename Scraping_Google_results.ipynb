{
  "nbformat": 4,
  "nbformat_minor": 0,
  "metadata": {
    "colab": {
      "provenance": []
    },
    "kernelspec": {
      "name": "python3",
      "display_name": "Python 3"
    }
  },
  "cells": [
    {
      "cell_type": "markdown",
      "metadata": {
        "id": "GRChrMqoCZpZ"
      },
      "source": [
        "# **Instructions - How to use this script**\n",
        "\n",
        "\n",
        "\n",
        "1.   Clone this notebook so you are able to make changes and save the output your own Google Drive \n",
        "2.   Enter your search query in the cell immediately beneath this one\n",
        "3.   Press CTRL + F9 (cmd +F9 on mac) to run all the cells.\n"
      ]
    },
    {
      "cell_type": "code",
      "metadata": {
        "id": "S5cM3EcxCTkv"
      },
      "source": [
        "query = 'holiday accomodation noosa # <------ Enter your search query between the speech marks here"
      ],
      "execution_count": null,
      "outputs": []
    },
    {
      "cell_type": "code",
      "metadata": {
        "id": "XXhRPkdh3_6E"
      },
      "source": [
        "#Import libraries\n",
        "\n",
        "from bs4 import BeautifulSoup\n",
        "import urllib\n",
        "import requests\n",
        "import re\n",
        "from re import search\n",
        "import pandas as pd\n",
        "from google.colab import files\n",
        "import requests\n",
        "from urllib.parse import urlsplit\n",
        "from collections import deque\n"
      ],
      "execution_count": null,
      "outputs": []
    },
    {
      "cell_type": "code",
      "metadata": {
        "id": "wR4hRONA4M2N",
        "colab": {
          "base_uri": "https://localhost:8080/"
        },
        "outputId": "9c9d2e23-820b-4f0f-9502-240325325424"
      },
      "source": [
        "# Build search query and URL to scrape\n",
        "query = query.replace(' ', '+')\n",
        "URL = f\"https://google.com/search?q={query}&num=100\"\n",
        "print(URL)\n",
        "\n",
        "# define desktop user-agent\n",
        "USER_AGENT = \"Mozilla/5.0 (Macintosh; Intel Mac OS X 10.14; rv:65.0) Gecko/20100101 Firefox/65.0\"\n",
        "\n",
        "headers = {\"user-agent\" : USER_AGENT}\n",
        "resp = requests.get(URL, headers=headers)\n",
        "\n",
        "#Parse the HTML with Beautiful soup\n",
        "if resp.status_code == 200:\n",
        "    soup = BeautifulSoup(resp.content, \"html.parser\")\n",
        "\n",
        "#Strip links and titles from HTML and append to a list\n",
        "\n",
        "results = []\n",
        "urls_list = []\n",
        "for g in soup.find_all('div', class_='yuRUbf'):\n",
        "    anchors = g.find_all('a')\n",
        "    if anchors:\n",
        "        link = anchors[0]['href']\n",
        "        urls_list.append(link)\n",
        "        title = g.find('h3').text\n",
        "        item = {\n",
        "            \"title\": title,\n",
        "            \"link\": link\n",
        "        }\n",
        "        results.append(item)\n",
        "\n",
        "for row in urls_list:\n",
        "  print(row)"
      ],
      "execution_count": null,
      "outputs": [
        {
          "output_type": "stream",
          "text": [
            "https://google.com/search?q=ski+chalets+jindabyne&num=100\n",
            "https://chaletjindabyne.com/\n",
            "https://www.airbnb.com/rooms/35168020\n",
            "https://us.j2ski.com/luxury_ski_chalets/Australia/Jindabyne/\n",
            "https://www.booking.com/hotel/au/chalet-jindabyne.html\n",
            "https://www.rentbyowner.com/property/hilltop-ski-chalet-jindabyne/AB-35168020\n",
            "https://www.stayz.com.au/search/keywords:jindabyne-new-south-wales-australia/filter:66\n",
            "http://skiinskiout.com.au/\n",
            "https://www.wotif.com/Jindabyne-Hotels-Ski-Hotel.0-0-d9563-tSkiHotel.Travel-Guide-Filter-Hotels\n",
            "https://www.lastminute.com.au/Jindabyne-Chalets.d9563-aaChalets.Travel-Guide-Accommodation\n",
            "https://www.tripadvisor.com/Hotel_Review-g261617-d1844784-Reviews-or30-Chalet_Jindabyne-Jindabyne_New_South_Wales.html\n",
            "https://www.wotif.com/Jindabyne-Chalets.d9563-aaChalets.Travel-Guide-Accommodation\n",
            "https://warreenjindabyne.com.au/\n",
            "https://www.instagram.com/hilltopskichalet/\n",
            "https://www.snowholidays.com.au/luxury_packages.html\n",
            "https://www.snowpak.com/australia/thredbo/packages\n",
            "https://www.facebook.com/pages/category/Hotel/Hilltop-Ski-Chalet-Jindabyne-105086990835876/\n",
            "https://onsnow.com.au/\n",
            "https://www.hotels.com/ho375908/aalberg-chalet-jindabyne-australia/\n",
            "https://www.expedia.com/Jindabyne-Hotels-Chalet-Jindabyne.h9626340.Hotel-Information\n",
            "https://www.trip.com/hotels/jindabyne-hotel-detail-4386876/chalet-jindabyne/\n",
            "https://www.sponars.com.au/index.html\n",
            "https://www.agoda.com/chalet-jindabyne/hotel/snowy-mountains-au.html\n",
            "https://www.alpinevillage.com.au/accomodation/self-contained-chalets/\n",
            "https://www.airbnb.ie/rooms/26023996/\n",
            "https://www.orbitz.com/Jindabyne-Hotels-Chalet-Jindabyne.h9626340.Hotel-Information\n",
            "https://www.pinterest.ch/pin/347621664965056010/\n",
            "https://www.absolutealpine.com.au/jindabyne/\n",
            "https://www.penderlea.com.au/\n",
            "https://luxuryescapes.com/au/offer/ski-in-ski-out-chalet-thredbo-nsw-australia/0062y000002Lsv2AAC\n",
            "https://thredboskiaccommodation.com.au/\n",
            "https://www.expedia.co.nz/East-Jindabyne-Chalets.d6343786-aaChalets.Travel-Guide-Accommodation\n",
            "https://www.trivago.com/jindabyne-73892/hotel/chalet-jindabyne-2862691\n",
            "https://www.jindabyneaccommodationcentre.com.au/accommodation/120\n",
            "https://www.ecocrackenback.com.au/\n",
            "https://www.tripadvisor.com.au/Hotels-g261617-c3-zff17-Jindabyne_New_South_Wales-Hotels.html\n",
            "https://www.discoverthredbo.com/\n",
            "https://www.nationalparks.nsw.gov.au/things-to-do/snow-sports-facilities/charlotte-pass-ski-resort-and-kosciuszko-chalet-hotel\n",
            "https://www.lovehomeswap.com/home-exchange/australia/kosciuszko-national-park-ski-chalet-in-thredbo\n",
            "https://www.travelocity.com/Jindabyne-Hotels-Ski-Resorts.0-0-d9563-tSkiResorts.Travel-Guide-Filter-Hotels\n",
            "https://www.airbnb.co.uk/rooms/33475798\n",
            "https://accommodationjindabyne.com/accommodation/jre-chalet-de-neige-29-jillamatong-street/\n",
            "https://www.australiantraveller.com/nsw/snowy-mountains/thredbo/top-10-coolest-places-to-stay-in-australias-ski-fields/\n",
            "http://www.southerncrossalpinelodge.com.au/history/\n",
            "https://www.airbnb.com.mt/wishlists/151008126\n",
            "https://www.tripadvisor.ca/LocationPhotoDirectLink-g261617-d1844784-i101340123-Chalet_Jindabyne-Jindabyne_New_South_Wales.html\n",
            "https://tinkersfield.com.au/\n",
            "http://absolutealpine.imagica.net.au/jindabyne/chalet-rene-2/\n",
            "http://www.skicheap.com.au/\n",
            "https://www.luxurytravelmag.com.au/article/luxury-travel-how-to-rent-an-australian-ski-chalet/\n",
            "https://henleyholidaysjindabyne.com.au/accommodation/Jindabyne/Chalet/31-Silvertop-Chalet/\n",
            "https://fr.airbnb.be/rooms/35168020\n",
            "https://www.aalberg.com.au/attractions.html\n",
            "https://www.kayak.com/Jindabyne-Hotels-Sponars-Chalet.451379.ksp\n",
            "https://www.homeaway.com/vacation-rental/p4406178\n",
            "https://www.visitnsw.com/destinations/snowy-mountains/jindabyne-area/jindabyne\n",
            "https://www.snowseasoncentral.com/australia/perisher\n",
            "https://www.yellowpages.com.au/find/ski-resorts-tours/jindabyne-nsw-2627\n",
            "https://www.tripadvisor.co.uk/ShowUserReviews-g261617-d1449801-r501771213-Aalberg_Chalet_Jindabyne-Jindabyne_New_South_Wales.html\n",
            "https://www.whitepages.com.au/southern-cross-alpine-lodge-10070968/smiggin-holes-nsw-10070967B\n",
            "https://www.pinterest.com.au/pin/436497388875953437/\n",
            "https://www.lakecrackenback.com.au/\n",
            "https://www.australia.com/en-us/things-to-do/seasonal-travel/best-ski-resorts-in-australia.html\n",
            "https://www.barrakeeskilodge.com.au/\n",
            "https://skitravelcompany.com.au/accommodation/aalberg-chalet-jindabyne/\n",
            "https://www.agfg.com.au/accommodations/snowy-mountains/jindabyne\n",
            "https://www.expedia.com.au/Jindabyne-Hotels-Ski-Hotel.0-0-d9563-tSkiHotel.Travel-Guide-Filter-Hotels\n",
            "https://www.powderlife.com/find/niseko-chalets/jindabyne-lodge/\n",
            "https://www.thestablesperisher.com.au/\n",
            "http://www.bsale.com.au/businesses/for_sale/204764/aalberg-chalet\n",
            "https://www.commercialrealestate.com.au/news/hot-snow-related-businesses-for-those-looking-for-a-ski-change-64910/\n",
            "https://www.pinterest.com/pin/193021534000493957/\n",
            "https://www.skirider.com.au/\n",
            "https://www.ski.com.au/xf/threads/cheapest-accommodation-jindabyne.70074/\n",
            "https://www.domain.com.au/advice/what-you-need-to-know-before-buying-a-property-in-the-nsw-snowy-region-862879/\n",
            "https://www.expedia.co.jp/en/East-Jindabyne-Chalets.d6343786-aaChalets.Travel-Guide-Accommodation\n",
            "https://www.tripadvisor.co.nz/ShowUserReviews-g261617-d1449801-r501771213-Aalberg_Chalet_Jindabyne-Jindabyne_New_South_Wales.html\n",
            "https://www.backpackerjobboard.com.au/jobs/ski-season-jobs/\n",
            "https://www.escape.com.au/destinations/australia/nsw/9-top-places-to-stay-in-the-snowy-mountains/image-gallery/54b89aecc7466c54a85ba11003766c07\n",
            "https://www.snowonline.com.au/destinations-nsw/jindabyne/accommodation/chalet-rene/\n",
            "http://www.completecertification.com.au/skilodgeapprovals/\n",
            "https://thredboluxuryaccommodation.com.au/location/\n",
            "http://dev.snowymountains.com.au/accommodation/ski-in-ski-out-chalets\n",
            "http://heidis.com.au/location/\n",
            "https://www.tripadvisor.com.ph/Hotel_Review-g261617-d1449801-Reviews-Aalberg_Chalet_Jindabyne-Jindabyne_New_South_Wales.html\n",
            "https://www.kayak.co.in/Jindabyne-Hotels-Chalet-Jindabyne.2004305.ksp\n",
            "https://www.allhomes.com.au/news/ski-chalets-at-perisher-kosciuszko-offer-chance-to-run-an-alpine-enterprise-20170818-gxwmnf/\n",
            "https://highcountryonline.com.au/jindabyne-accommodation-centre-jindabyne/\n",
            "https://www.vrbo.com/9175042ha\n",
            "https://www.accommodationthredbo.com.au/\n",
            "https://www.localgymsandfitness.com/AU/Jindabyne-NSW/10711/genre/162841010432730/Ski+resorts\n",
            "https://www.cylex-australia.com/jindabyne/ski%20inn.html\n",
            "https://books.google.com/books?id=zxNrDwAAQBAJ&pg=PT601&lpg=PT601&dq=ski+chalets+jindabyne&source=bl&ots=H6YuNzqyhT&sig=ACfU3U1O-SKXj6z1Qp6ddbo-IaBMsCqbvQ&hl=en&sa=X&ved=2ahUKEwiBwJ7fm9zuAhWChK0KHfA0Be0Q6AEwanoECHAQAg\n",
            "https://books.google.com/books?id=GLd1AmP8yckC&pg=PA275&lpg=PA275&dq=ski+chalets+jindabyne&source=bl&ots=o61bDNhI16&sig=ACfU3U0mf38ugXEMikz2__L_Cgr3nWa_vw&hl=en&sa=X&ved=2ahUKEwiBwJ7fm9zuAhWChK0KHfA0Be0Q6AEwa3oECG8QAg\n",
            "https://books.google.com/books?id=Nsx-DwAAQBAJ&pg=PT19&lpg=PT19&dq=ski+chalets+jindabyne&source=bl&ots=IXdVDc-R4j&sig=ACfU3U0kLcu2ym_kUach3RvYbG_ckayGAA&hl=en&sa=X&ved=2ahUKEwiBwJ7fm9zuAhWChK0KHfA0Be0Q6AEwbHoECG4QAg\n",
            "https://www.kookaburraskilodge.net.au/\n",
            "https://books.google.com/books?id=JXT9wWkyhPoC&pg=PT225&lpg=PT225&dq=ski+chalets+jindabyne&source=bl&ots=ZL3rvfbXab&sig=ACfU3U3YsJ8dhUkUJ4tFqSH3_YXDY4le0A&hl=en&sa=X&ved=2ahUKEwiBwJ7fm9zuAhWChK0KHfA0Be0Q6AEwbnoECHIQAg\n",
            "https://books.google.com/books?id=GnRASpkvQxMC&pg=PT40&lpg=PT40&dq=ski+chalets+jindabyne&source=bl&ots=OWcAQkgrXh&sig=ACfU3U0h8e78GK6dLq4-3DMWvhkJYmRq-A&hl=en&sa=X&ved=2ahUKEwiBwJ7fm9zuAhWChK0KHfA0Be0Q6AEwb3oECHEQAg\n",
            "https://en.wikipedia.org/wiki/Australian_Alps\n",
            "https://www.purethredbo.com.au/\n"
          ],
          "name": "stdout"
        }
      ]
    },
    {
      "cell_type": "code",
      "metadata": {
        "id": "0O3PvrpgWo2V",
        "colab": {
          "base_uri": "https://localhost:8080/"
        },
        "outputId": "8d6c2ad4-1633-40de-cbe1-cb718ea088db"
      },
      "source": [
        "## scraping - the fun part\n",
        "\n",
        "new_email_count = 0\n",
        "\n",
        "scraped = set()  \n",
        "\n",
        "unscraped = []\n",
        "\n",
        "emails = set()  \n",
        "\n",
        "urls_list1 = ['https://thredboskiaccommodation.com.au/']\n",
        "\n",
        "for x in urls_list1:\n",
        "\n",
        "      url = x\n",
        "\n",
        "      #break each URL apart\n",
        "      parts = urlsplit(url)\n",
        "          \n",
        "      base_url = \"{0.scheme}://{0.netloc}\".format(parts)\n",
        "      if '/' in parts.path:\n",
        "        path = url[:url.rfind('/')+1]\n",
        "      else:\n",
        "        path = url\n",
        "      print(\"Crawling URL %s\" % url)\n",
        "      \n",
        "      #start crawling the URL\n",
        "      timeout = time.time() + 60\n",
        "      while time.time() < timeout: \n",
        "        try:\n",
        "            response = requests.get(url) #response is the returned html of each url\n",
        "        except (requests.exceptions.MissingSchema, requests.exceptions.ConnectionError):\n",
        "            continue\n",
        "\n",
        "      new_emails = set(re.findall(r\"[a-z0-9\\.\\-+_]+@[a-z0-9\\.\\-+_]+\\.(?:com|au)\", response.text, re.I)) #extract email from the URL itself\n",
        "\n",
        "      if len(new_emails) == 1: #if there are not contact emails on that page, then look for a contact page\n",
        "        print('email found', new_emails) \n",
        "      else:\n",
        "        print('no email found, checking for contacts page') \n",
        "        soup = BeautifulSoup(response.text, 'lxml')\n",
        "\n",
        "        contact_link = soup.find(\"a\", href=True, text=re.compile('.*contact.*|.*enquir.*|.*get in touch.*', flags=re.IGNORECASE))\n",
        "        if contact_link is None:\n",
        "          print('no contact page found')\n",
        "          print('\\n #--------------')\n",
        "        else:\n",
        "          contact_link = contact_link['href']\n",
        "          if re.search(r'.*#.*', contact_link, re.I):\n",
        "            print('this link is shit')\n",
        "            contact_link = float(\"NaN\")\n",
        "          elif contact_link.startswith('/'):\n",
        "            contact_link = base_url + contact_link\n",
        "          \n",
        "\n",
        "          # elif not x.startswith('http'):\n",
        "          #   contact_link_href = path + contact_link_href\n",
        "        \n",
        "          print('checking contact page:', contact_link)\n",
        "          \n",
        "        try:\n",
        "          response = requests.get(contact_link) #response is the returned html of each url\n",
        "        except (requests.exceptions.MissingSchema, requests.exceptions.ConnectionError):\n",
        "          continue\n",
        "\n",
        "        new_emails = set(re.findall(r\"[a-z0-9\\.\\-+_]+@[a-z0-9\\.\\-+_]+\\.(?:com|au)\", response.text, re.I)) #extract email from the URL itself\n",
        "        if new_emails != 0:\n",
        "          new_email_count += 1\n",
        "          print('email found:', new_emails )\n",
        "      emails.update(new_emails) \n",
        "      print('\\n #--------------')\n",
        "\n",
        "      # for anchor in soup.find_all(\"a\"):\n",
        "      #   if 'contact' in anchor:\n",
        "      #     print(anchor)\n",
        "\n",
        "      #     if \"href\" in anchor.attrs:\n",
        "      #       link = anchor.attrs[\"href\"]\n",
        "      #     else:\n",
        "      #       link = ''\n",
        "\n",
        "\n",
        "\n",
        "            # if not link.endswith(\".gz\"):\n",
        "            #   if not link in unscraped and not link in scraped:\n",
        "            #       unscraped.append(link)\n",
        "\n",
        "# df = pd.DataFrame(emails, columns=[\"Email\"])\n",
        "# df.to_csv('email.csv', index=False)\n",
        "\n",
        "# files.download(\"email.csv\")"
      ],
      "execution_count": null,
      "outputs": [
        {
          "output_type": "stream",
          "text": [
            "Crawling URL https://thredboskiaccommodation.com.au/\n",
            "no email found, checking for contacts page\n",
            "no contact page found\n",
            "\n",
            " #--------------\n"
          ],
          "name": "stdout"
        }
      ]
    },
    {
      "cell_type": "code",
      "metadata": {
        "id": "1k-y02aTXob-",
        "colab": {
          "base_uri": "https://localhost:8080/"
        },
        "outputId": "93d93600-abc9-4629-ec23-80b1992fc93f"
      },
      "source": [
        "print(new_email_count)"
      ],
      "execution_count": null,
      "outputs": [
        {
          "output_type": "stream",
          "text": [
            "0\n"
          ],
          "name": "stdout"
        }
      ]
    },
    {
      "cell_type": "code",
      "metadata": {
        "id": "QSzs161DlUej",
        "colab": {
          "base_uri": "https://localhost:8080/",
          "height": 368
        },
        "outputId": "bff51ce1-90ec-4fbb-ee19-ff012603afd4"
      },
      "source": [
        "from selenium import webdriver\n",
        "\n",
        "DRIVER_PATH = '/path/to/chromedriver'\n",
        "driver = webdriver.Chrome(executable_path=DRIVER_PATH)\n",
        "driver.get('https://google.com')\n",
        "\n",
        "\n"
      ],
      "execution_count": null,
      "outputs": [
        {
          "output_type": "error",
          "ename": "ModuleNotFoundError",
          "evalue": "ignored",
          "traceback": [
            "\u001b[0;31m---------------------------------------------------------------------------\u001b[0m",
            "\u001b[0;31mModuleNotFoundError\u001b[0m                       Traceback (most recent call last)",
            "\u001b[0;32m<ipython-input-11-b3ee6cb90026>\u001b[0m in \u001b[0;36m<module>\u001b[0;34m()\u001b[0m\n\u001b[0;32m----> 1\u001b[0;31m \u001b[0;32mfrom\u001b[0m \u001b[0mselenium\u001b[0m \u001b[0;32mimport\u001b[0m \u001b[0mwebdriver\u001b[0m\u001b[0;34m\u001b[0m\u001b[0;34m\u001b[0m\u001b[0m\n\u001b[0m\u001b[1;32m      2\u001b[0m \u001b[0;34m\u001b[0m\u001b[0m\n\u001b[1;32m      3\u001b[0m \u001b[0mDRIVER_PATH\u001b[0m \u001b[0;34m=\u001b[0m \u001b[0;34m'/path/to/chromedriver'\u001b[0m\u001b[0;34m\u001b[0m\u001b[0;34m\u001b[0m\u001b[0m\n\u001b[1;32m      4\u001b[0m \u001b[0mdriver\u001b[0m \u001b[0;34m=\u001b[0m \u001b[0mwebdriver\u001b[0m\u001b[0;34m.\u001b[0m\u001b[0mChrome\u001b[0m\u001b[0;34m(\u001b[0m\u001b[0mexecutable_path\u001b[0m\u001b[0;34m=\u001b[0m\u001b[0mDRIVER_PATH\u001b[0m\u001b[0;34m)\u001b[0m\u001b[0;34m\u001b[0m\u001b[0;34m\u001b[0m\u001b[0m\n\u001b[1;32m      5\u001b[0m \u001b[0mdriver\u001b[0m\u001b[0;34m.\u001b[0m\u001b[0mget\u001b[0m\u001b[0;34m(\u001b[0m\u001b[0;34m'https://google.com'\u001b[0m\u001b[0;34m)\u001b[0m\u001b[0;34m\u001b[0m\u001b[0;34m\u001b[0m\u001b[0m\n",
            "\u001b[0;31mModuleNotFoundError\u001b[0m: No module named 'selenium'",
            "",
            "\u001b[0;31m---------------------------------------------------------------------------\u001b[0;32m\nNOTE: If your import is failing due to a missing package, you can\nmanually install dependencies using either !pip or !apt.\n\nTo view examples of installing some common dependencies, click the\n\"Open Examples\" button below.\n\u001b[0;31m---------------------------------------------------------------------------\u001b[0m\n"
          ]
        }
      ]
    },
    {
      "cell_type": "code",
      "metadata": {
        "id": "ye58TM1DewlK"
      },
      "source": [],
      "execution_count": null,
      "outputs": []
    }
  ]
}